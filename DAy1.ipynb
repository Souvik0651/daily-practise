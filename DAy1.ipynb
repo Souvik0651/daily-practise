{
  "nbformat": 4,
  "nbformat_minor": 0,
  "metadata": {
    "colab": {
      "name": "DAy1.ipynb",
      "provenance": [],
      "authorship_tag": "ABX9TyPoO0mfJkQb1cANbRkKtAqs",
      "include_colab_link": true
    },
    "kernelspec": {
      "name": "python3",
      "display_name": "Python 3"
    },
    "language_info": {
      "name": "python"
    }
  },
  "cells": [
    {
      "cell_type": "markdown",
      "metadata": {
        "id": "view-in-github",
        "colab_type": "text"
      },
      "source": [
        "<a href=\"https://colab.research.google.com/github/Souvik0651/daily-practise/blob/main/DAy1.ipynb\" target=\"_parent\"><img src=\"https://colab.research.google.com/assets/colab-badge.svg\" alt=\"Open In Colab\"/></a>"
      ]
    },
    {
      "cell_type": "code",
      "execution_count": null,
      "metadata": {
        "colab": {
          "base_uri": "https://localhost:8080/"
        },
        "id": "2jyGCtGAn9Ur",
        "outputId": "a692f4ad-8ad1-439d-d4e6-bf1d1672f0e1"
      },
      "outputs": [
        {
          "output_type": "stream",
          "name": "stdout",
          "text": [
            "this is \\ double backlash\n",
            "these are /\\/\\/\\/\\/\\ mountains\n",
            "he is \t awesome\n",
            "\\\" \\n \\t \\'\n"
          ]
        }
      ],
      "source": [
        "# print the followings\n",
        "# this is \\\\ double backlash\n",
        "# these are /\\/\\/\\/\\/\\ mountains\n",
        "# he is    awesome (use escape sequence)\n",
        "# \\\" \\n \\t \\' (print this as an output)\n",
        "a= '\\\\'\n",
        "b = '/\\/\\/\\/\\/\\ '\n",
        "c= '\\\\\\\" \\\\n \\\\t \\\\\\''\n",
        "print(f'this is {a} double backlash')\n",
        "print(f'these are {b}mountains')\n",
        "print(f\"he is \\t awesome\")\n",
        "print(c)"
      ]
    },
    {
      "cell_type": "code",
      "source": [
        "# ask user to input 3 numbers and you hae to print average of three numbers using string formatting\n",
        "num_3= (input()).split()\n",
        "avg=(int(num_3[0])+int(num_3[1])+int(num_3[2]))/3\n",
        "print(avg)"
      ],
      "metadata": {
        "colab": {
          "base_uri": "https://localhost:8080/"
        },
        "id": "vCAEAAcqy-q1",
        "outputId": "d615f7da-2bcf-40d1-dcfd-47eda3b6b0c5"
      },
      "execution_count": null,
      "outputs": [
        {
          "output_type": "stream",
          "name": "stdout",
          "text": [
            "5 5 5\n",
            "5.0\n"
          ]
        }
      ]
    },
    {
      "cell_type": "code",
      "source": [
        "# take two user input from user\n",
        "# 1st user name \n",
        "# 2nd character\n",
        "# output \n",
        "# user name length\n",
        "# count the character that user inputed\n",
        "name= input().split()\n",
        "print(len(name[0]))\n",
        "print(name[0].lower().count(name[1]))"
      ],
      "metadata": {
        "id": "e5cbjTwdH6LQ"
      },
      "execution_count": null,
      "outputs": []
    }
  ]
}